{
 "cells": [
  {
   "cell_type": "markdown",
   "metadata": {
    "collapsed": false
   },
   "source": [
    "#  Import Required Modules"
   ]
  },
  {
   "cell_type": "code",
   "execution_count": 1,
   "metadata": {
    "ExecuteTime": {
     "end_time": "2023-12-17T15:49:11.754393700Z",
     "start_time": "2023-12-17T15:49:03.326241Z"
    },
    "collapsed": false
   },
   "outputs": [],
   "source": [
    "import torch\n",
    "import torch.nn as nn\n",
    "import torch.optim as optim\n",
    "from torch_geometric.nn import GCNConv\n",
    "from sklearn.metrics import accuracy_score\n",
    "from torch_geometric.datasets import Planetoid\n",
    "from torch_geometric.transforms import NormalizeFeatures"
   ]
  },
  {
   "cell_type": "markdown",
   "metadata": {
    "collapsed": false
   },
   "source": [
    "# Fetch Data"
   ]
  },
  {
   "cell_type": "code",
   "execution_count": 2,
   "metadata": {
    "ExecuteTime": {
     "end_time": "2023-12-17T15:49:11.898888300Z",
     "start_time": "2023-12-17T15:49:11.756472800Z"
    },
    "collapsed": false
   },
   "outputs": [],
   "source": [
    "cora = Planetoid(root='/tmp/Cora', name='Cora', transform=NormalizeFeatures())"
   ]
  },
  {
   "cell_type": "markdown",
   "metadata": {},
   "source": [
    "# Define Model"
   ]
  },
  {
   "cell_type": "code",
   "execution_count": 3,
   "metadata": {
    "ExecuteTime": {
     "end_time": "2023-12-17T15:49:11.918482300Z",
     "start_time": "2023-12-17T15:49:11.901893700Z"
    },
    "collapsed": false
   },
   "outputs": [],
   "source": [
    "class GCNModel(nn.Module):\n",
    "    def __init__(self, num_features, hidden_size, num_classes, dropout_rate):\n",
    "        super(GCNModel, self).__init__()\n",
    "        self.conv1 = GCNConv(num_features, hidden_size)\n",
    "        self.conv2 = GCNConv(hidden_size, num_classes)\n",
    "        self.dropout = nn.Dropout(p=dropout_rate)\n",
    "\n",
    "        nn.init.xavier_uniform_(self.conv1.lin.weight.data.T)\n",
    "        nn.init.xavier_uniform_(self.conv2.lin.weight.data.T)\n",
    "\n",
    "    def forward(self, x, edge_index):\n",
    "        x = self.conv1(x, edge_index)\n",
    "        x = torch.relu(x)\n",
    "        x = self.dropout(x)\n",
    "        x = self.conv2(x, edge_index)\n",
    "        x = self.dropout(x)\n",
    "        x = torch.softmax(x, dim=1)\n",
    "        return x"
   ]
  },
  {
   "cell_type": "markdown",
   "metadata": {
    "collapsed": false
   },
   "source": [
    "## Train and Evaluate The Model"
   ]
  },
  {
   "cell_type": "code",
   "execution_count": 4,
   "metadata": {},
   "outputs": [],
   "source": [
    "def evaluate_model(model, data, test_mask):\n",
    "    model.eval()\n",
    "    with torch.no_grad():\n",
    "        logits = model(data.x, data.edge_index)\n",
    "        predicted_labels = logits.argmax(dim=1)\n",
    "\n",
    "    accuracy = accuracy_score(data.y[test_mask].numpy(), predicted_labels[test_mask].numpy())\n",
    "    return accuracy"
   ]
  },
  {
   "cell_type": "code",
   "execution_count": 5,
   "metadata": {
    "ExecuteTime": {
     "end_time": "2023-12-17T15:49:11.985204400Z",
     "start_time": "2023-12-17T15:49:11.954391Z"
    },
    "collapsed": false
   },
   "outputs": [],
   "source": [
    "def train_model(model, data, train_mask, val_mask, test_mask, patience=10, max_epochs=200):\n",
    "    criterion = nn.CrossEntropyLoss()\n",
    "    optimizer = optim.Adam(model.parameters(), lr=0.01)\n",
    "\n",
    "    best_val_loss = float('inf')\n",
    "    best_model = None\n",
    "    consecutive_no_improvement = 0\n",
    "\n",
    "    for epoch in range(max_epochs):\n",
    "        model.train()\n",
    "        optimizer.zero_grad()\n",
    "        out = model(data.x, data.edge_index)\n",
    "        loss = criterion(out[train_mask], data.y[train_mask])\n",
    "        loss.backward()\n",
    "        optimizer.step()\n",
    "\n",
    "        model.eval()\n",
    "        with torch.no_grad():\n",
    "            val_loss = criterion(out[val_mask], data.y[val_mask])\n",
    "\n",
    "        if val_loss < best_val_loss:\n",
    "            best_val_loss = val_loss\n",
    "            best_model = model\n",
    "            consecutive_no_improvement = 0\n",
    "        else:\n",
    "            consecutive_no_improvement += 1\n",
    "\n",
    "        if consecutive_no_improvement == patience:\n",
    "            print(f'Early stopping at epoch {epoch + 1} due to no improvement in validation loss.')\n",
    "            break\n",
    "        \n",
    "    test_accuracy = evaluate_model(best_model, data, test_mask)\n",
    "    print(f'Test Accuracy: {test_accuracy:.4f}')\n",
    "\n",
    "    return best_model"
   ]
  },
  {
   "cell_type": "code",
   "execution_count": 6,
   "metadata": {
    "ExecuteTime": {
     "end_time": "2023-12-17T15:49:13.128538200Z",
     "start_time": "2023-12-17T15:49:11.964921Z"
    },
    "collapsed": false
   },
   "outputs": [],
   "source": [
    "cora_data = cora[0]\n",
    "num_nodes = cora_data.num_nodes\n",
    "train_mask = cora_data.train_mask\n",
    "val_mask = cora_data.val_mask\n",
    "test_mask = cora_data.test_mask"
   ]
  },
  {
   "cell_type": "code",
   "execution_count": 7,
   "metadata": {},
   "outputs": [
    {
     "name": "stdout",
     "output_type": "stream",
     "text": [
      "Early stopping at epoch 83 due to no improvement in validation loss.\n",
      "Test Accuracy: 0.7950\n"
     ]
    }
   ],
   "source": [
    "gcn_model = GCNModel(num_features=cora.num_features,\n",
    "                     hidden_size=32,\n",
    "                     num_classes=cora.num_classes,\n",
    "                     dropout_rate=0.2)\n",
    "\n",
    "trained_gcn_model = train_model(gcn_model, cora_data, train_mask, val_mask, test_mask)"
   ]
  },
  {
   "cell_type": "code",
   "execution_count": null,
   "metadata": {},
   "outputs": [],
   "source": []
  }
 ],
 "metadata": {
  "kernelspec": {
   "display_name": "Python 3",
   "language": "python",
   "name": "python3"
  },
  "language_info": {
   "codemirror_mode": {
    "name": "ipython",
    "version": 3
   },
   "file_extension": ".py",
   "mimetype": "text/x-python",
   "name": "python",
   "nbconvert_exporter": "python",
   "pygments_lexer": "ipython3",
   "version": "3.9.13"
  }
 },
 "nbformat": 4,
 "nbformat_minor": 0
}
