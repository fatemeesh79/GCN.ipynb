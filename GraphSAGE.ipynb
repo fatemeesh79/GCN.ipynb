{
 "cells": [
  {
   "cell_type": "markdown",
   "metadata": {},
   "source": [
    "# Import Required Modules"
   ]
  },
  {
   "cell_type": "code",
   "execution_count": 2,
   "metadata": {},
   "outputs": [],
   "source": [
    "from torch_geometric.data import DataLoader\n",
    "import torch\n",
    "import torch.nn as nn\n",
    "import torch.optim as optim\n",
    "from torch_geometric.nn import GraphSAGE\n",
    "from sklearn.metrics import accuracy_score\n",
    "from torch_geometric.datasets import Planetoid\n",
    "from torch_geometric.transforms import NormalizeFeatures"
   ]
  },
  {
   "cell_type": "markdown",
   "metadata": {},
   "source": [
    "# Fetch Data"
   ]
  },
  {
   "cell_type": "code",
   "execution_count": 3,
   "metadata": {},
   "outputs": [],
   "source": [
    "cora = Planetoid(root='/tmp/Cora', name='Cora', transform=NormalizeFeatures())"
   ]
  },
  {
   "cell_type": "markdown",
   "metadata": {},
   "source": [
    "# Define Model"
   ]
  },
  {
   "cell_type": "code",
   "execution_count": 4,
   "metadata": {},
   "outputs": [],
   "source": [
    "class GraphSAGEModel(nn.Module):\n",
    "    \n",
    "    def __init__(self, num_features, hidden_size, num_classes, dropout_rate):\n",
    "        super(GraphSAGEModel, self).__init__()\n",
    "        self.conv1 = GraphSAGE(num_features, hidden_size, num_layers=1)\n",
    "        self.conv2 = GraphSAGE(hidden_size, num_classes, num_layers=1)\n",
    "        self.dropout = nn.Dropout(p=dropout_rate)\n",
    "    \n",
    "    def forward(self, x, edge_index):\n",
    "        x = self.conv1(x, edge_index)\n",
    "        x = torch.relu(x)\n",
    "        x = self.dropout(x)\n",
    "        x = self.conv2(x, edge_index)\n",
    "        x = self.dropout(x)\n",
    "        x = torch.softmax(x, dim=1)\n",
    "        return x"
   ]
  },
  {
   "cell_type": "markdown",
   "metadata": {},
   "source": [
    "# Train and Evaluate The Model"
   ]
  },
  {
   "cell_type": "code",
   "execution_count": 5,
   "metadata": {},
   "outputs": [],
   "source": [
    "def evaluate_model(model, data, test_mask):\n",
    "    model.eval()\n",
    "    with torch.no_grad():\n",
    "        logits = model(data.x, data.edge_index)\n",
    "        predicted_labels = logits.argmax(dim=1)\n",
    "\n",
    "    accuracy = accuracy_score(data.y[test_mask].numpy(), predicted_labels[test_mask].numpy())\n",
    "    return accuracy"
   ]
  },
  {
   "cell_type": "code",
   "execution_count": 6,
   "metadata": {},
   "outputs": [],
   "source": [
    "def train_model(model, data, train_mask, val_mask, test_mask, patience=10, max_epochs=200, batch_size=64):\n",
    "    criterion = nn.CrossEntropyLoss()\n",
    "    optimizer = optim.Adam(model.parameters(), lr=0.01)\n",
    "\n",
    "    best_val_loss = float('inf')\n",
    "    best_model = None\n",
    "    consecutive_no_improvement = 0\n",
    "        \n",
    "    loader = DataLoader([data], batch_size=batch_size, shuffle=True)\n",
    "\n",
    "    for epoch in range(max_epochs):\n",
    "        model.train()\n",
    "        total_loss = 0\n",
    "        total_val_loss = 0\n",
    "        for batch in loader:\n",
    "            optimizer.zero_grad()\n",
    "            out = model(batch.x, batch.edge_index)\n",
    "            loss = criterion(out[train_mask], batch.y[train_mask])\n",
    "            loss.backward()\n",
    "            optimizer.step()\n",
    "            total_loss += loss.item()\n",
    "            \n",
    "            with torch.no_grad():\n",
    "                val_loss = criterion(out[val_mask], batch.y[val_mask])\n",
    "                total_val_loss += val_loss.item()\n",
    "            \n",
    "        average_val_loss = total_val_loss / len(loader)\n",
    "        \n",
    "        if average_val_loss < best_val_loss:\n",
    "            best_val_loss = average_val_loss\n",
    "            best_model = model\n",
    "            consecutive_no_improvement = 0\n",
    "        else:\n",
    "            consecutive_no_improvement += 1\n",
    "        \n",
    "        if consecutive_no_improvement == patience:\n",
    "            print(f'Early stopping at epoch {epoch + 1} due to no improvement in validation loss.')\n",
    "            break\n",
    "        \n",
    "    test_accuracy = evaluate_model(best_model, data, test_mask)\n",
    "    print(f'Test Accuracy: {test_accuracy:.4f}')\n",
    "        \n",
    "    return best_model"
   ]
  },
  {
   "cell_type": "code",
   "execution_count": 7,
   "metadata": {},
   "outputs": [],
   "source": [
    "cora_data = cora[0]\n",
    "num_nodes = cora_data.num_nodes\n",
    "train_mask = cora_data.train_mask\n",
    "val_mask = cora_data.val_mask\n",
    "test_mask = cora_data.test_mask"
   ]
  },
  {
   "cell_type": "code",
   "execution_count": 8,
   "metadata": {},
   "outputs": [
    {
     "name": "stderr",
     "output_type": "stream",
     "text": [
      "c:\\Users\\User\\PycharmProjects\\GNN\\venv\\lib\\site-packages\\torch_geometric\\deprecation.py:22: UserWarning: 'data.DataLoader' is deprecated, use 'loader.DataLoader' instead\n",
      "  warnings.warn(out)\n"
     ]
    },
    {
     "name": "stdout",
     "output_type": "stream",
     "text": [
      "Early stopping at epoch 58 due to no improvement in validation loss.\n",
      "Test Accuracy: 0.7720\n"
     ]
    }
   ],
   "source": [
    "graph_sage_model = GraphSAGEModel(num_features=cora.num_features,\n",
    "                                  hidden_size=32,\n",
    "                                  num_classes=cora.num_classes,\n",
    "                                  dropout_rate=0.2)\n",
    "\n",
    "trained_graphsage_model = train_model(graph_sage_model, cora_data, train_mask, val_mask, test_mask)"
   ]
  },
  {
   "cell_type": "code",
   "execution_count": null,
   "metadata": {},
   "outputs": [],
   "source": []
  }
 ],
 "metadata": {
  "kernelspec": {
   "display_name": "venv",
   "language": "python",
   "name": "python3"
  },
  "language_info": {
   "codemirror_mode": {
    "name": "ipython",
    "version": 3
   },
   "file_extension": ".py",
   "mimetype": "text/x-python",
   "name": "python",
   "nbconvert_exporter": "python",
   "pygments_lexer": "ipython3",
   "version": "3.9.13"
  }
 },
 "nbformat": 4,
 "nbformat_minor": 2
}
